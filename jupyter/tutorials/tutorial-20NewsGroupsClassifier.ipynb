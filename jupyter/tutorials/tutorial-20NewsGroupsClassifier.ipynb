{
 "cells": [
  {
   "cell_type": "markdown",
   "id": "227d7d83-43d9-4c87-8e32-f4b63d991c50",
   "metadata": {},
   "source": [
    "# Building and Deploying a Scikit-Learn Text Classifier with ODSP\n",
    "\n",
    "This notebook will showcase an example of how to build and deploy a Scikit-Learn text classification model trained on the `20NewsGroups` dataset\n",
    "\n",
    "In this notebook, we will show how to download the data, train and register the model using `MLFlow`, and use that model as it is automatically deployed to the platform."
   ]
  },
  {
   "cell_type": "code",
   "execution_count": null,
   "id": "04874f63-56f3-4609-b19c-39008920c63f",
   "metadata": {},
   "outputs": [],
   "source": [
    "# Import all required packages\n",
    "\n",
    "from sklearn.feature_extraction.text import TfidfVectorizer\n",
    "from sklearn.model_selection import train_test_split\n",
    "from sklearn.ensemble import RandomForestClassifier\n",
    "from sklearn.datasets import fetch_20newsgroups\n",
    "from sklearn.metrics import accuracy_score\n",
    "from sklearn.pipeline import Pipeline\n",
    "import requests\n",
    "import mlflow"
   ]
  },
  {
   "cell_type": "markdown",
   "id": "382c91a2-982b-4428-a76a-a4cd0b47712f",
   "metadata": {},
   "source": [
    "## Data Prep"
   ]
  },
  {
   "cell_type": "code",
   "execution_count": null,
   "id": "21b75373-aa8f-487e-bd18-021467def00e",
   "metadata": {},
   "outputs": [],
   "source": [
    "# Prepare the data\n",
    "data = fetch_20newsgroups()\n",
    "x_data = data['data']\n",
    "y_data = [\n",
    "    data['target_names'][i] for i in data['target']\n",
    "]\n",
    "\n",
    "x_train, x_test, y_train, y_test = train_test_split(x_data, y_data)"
   ]
  },
  {
   "cell_type": "markdown",
   "id": "ea425c6f-eb8b-4d8e-9796-f37629dad664",
   "metadata": {},
   "source": [
    "## Train, Log, and Register Your Model"
   ]
  },
  {
   "cell_type": "code",
   "execution_count": null,
   "id": "0ba79a71-a04a-46f7-9618-9f2f684e56c6",
   "metadata": {},
   "outputs": [],
   "source": [
    "# Create MLflow experiment\n",
    "mlflow.set_experiment('20NewsGroupsClassifierTutorial')\n",
    "mlflow.sklearn.autolog()\n",
    "\n",
    "# Create your sklearn pipeline and train & register your model via MLflow\n",
    "with mlflow.start_run() as run:\n",
    "    model = Pipeline(\n",
    "        [\n",
    "            ('tfidf', TfidfVectorizer(stop_words = 'english', min_df = 5, max_df = 0.8)),\n",
    "            ('clf', RandomForestClassifier())\n",
    "        ]\n",
    "    )\n",
    "    model.fit(x_train, y_train)\n",
    "    test_preds = model.predict(x_test)\n",
    "    mlflow.log_metric('test_accuracy', accuracy_score(y_test, test_preds))\n",
    "    mlflow.sklearn.log_model(\n",
    "        sk_model = model,\n",
    "        artifact_path = 'model',\n",
    "        input_example = x_train,\n",
    "        registered_model_name = '20NewsGroupsClassifier'\n",
    "    )"
   ]
  },
  {
   "cell_type": "markdown",
   "id": "6e930c2c-6cf3-44ad-a523-3e65cbfc4be5",
   "metadata": {},
   "source": [
    "## Make Predictions with Your Deployed Model"
   ]
  },
  {
   "cell_type": "code",
   "execution_count": null,
   "id": "b171b918-37ed-4a60-a64d-bdd1096fcbb9",
   "metadata": {},
   "outputs": [],
   "source": [
    "# User and default API key, if the default environment file is used (NOT RECOMMENDED FOR ANYTHING OTHER THAN TESTING PURPOSES)\n",
    "user = 'odsp'\n",
    "key = 'odsp-odsp'\n",
    "\n",
    "# Make a prediction using the deployed model\n",
    "\n",
    "# Note that the model is being deployed as an MLflow model object with a version number\n",
    "# Make sure that you're careful to point to the correct model version (in the example, it's 1) when making your request\n",
    "with requests.Session() as sess:\n",
    "    resp = sess.post('http://model-server:4488/models/predict/20NewsGroupsClassifier/sklearn/1', json = {'data' : x_test}, auth = (user, key))"
   ]
  },
  {
   "cell_type": "code",
   "execution_count": null,
   "id": "a3a61773-29ce-4f59-b7de-0df42b60117e",
   "metadata": {},
   "outputs": [],
   "source": [
    "# Return the model's predictions\n",
    "resp.json()['prediction'][:100]"
   ]
  }
 ],
 "metadata": {
  "kernelspec": {
   "display_name": "Python 3 (ipykernel)",
   "language": "python",
   "name": "python3"
  },
  "language_info": {
   "codemirror_mode": {
    "name": "ipython",
    "version": 3
   },
   "file_extension": ".py",
   "mimetype": "text/x-python",
   "name": "python",
   "nbconvert_exporter": "python",
   "pygments_lexer": "ipython3",
   "version": "3.11.4"
  }
 },
 "nbformat": 4,
 "nbformat_minor": 5
}
