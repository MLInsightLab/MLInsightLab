{
 "cells": [
  {
   "cell_type": "markdown",
   "id": "b6aa8dce-6443-492f-8590-c53532856cb3",
   "metadata": {},
   "source": [
    "# Deploying GPT-2 to ODSP"
   ]
  },
  {
   "cell_type": "code",
   "execution_count": null,
   "id": "8cae3b71-6194-4b1a-8f36-1aaed34f82ab",
   "metadata": {},
   "outputs": [],
   "source": [
    "from transformers import pipeline\n",
    "import requests\n",
    "import mlflow"
   ]
  },
  {
   "cell_type": "code",
   "execution_count": null,
   "id": "3eb7c499-9070-44c3-8b67-5f77bdf90af1",
   "metadata": {},
   "outputs": [],
   "source": [
    "# user and default API key, if the default environment file is used (NOT RECOMMENDED FOR ANYTHING OTHER THAN TESTING PURPOSES)\n",
    "\n",
    "user = 'odsp'\n",
    "key = 'odsp-odsp'"
   ]
  },
  {
   "cell_type": "code",
   "execution_count": null,
   "id": "1c3a1815-cc67-4f9c-89e8-b5fca2e66811",
   "metadata": {},
   "outputs": [],
   "source": [
    "model_id = 'gpt2'\n",
    "model = pipeline('text-generation', model_id)"
   ]
  },
  {
   "cell_type": "code",
   "execution_count": null,
   "id": "88bcc259-0a9d-438b-bd32-c1fe3e28c6fc",
   "metadata": {},
   "outputs": [],
   "source": [
    "data = ['How are you today?']\n",
    "signature_output = mlflow.transformers.generate_signature_output(model, data)\n",
    "signature = mlflow.models.infer_signature(data, signature_output)\n",
    "model_config = {\n",
    "    'max_new_tokens' : 50,\n",
    "    'do_sample' : False,\n",
    "    'return_full_text' : False\n",
    "}"
   ]
  },
  {
   "cell_type": "code",
   "execution_count": null,
   "id": "5779ec33-15fd-41d7-85fd-49897bfa3d7c",
   "metadata": {},
   "outputs": [],
   "source": [
    "mlflow.set_experiment('GPT2Tutorial')\n",
    "\n",
    "with mlflow.start_run() as run:\n",
    "    model_info = mlflow.transformers.log_model(\n",
    "        model,\n",
    "        'gpt2',\n",
    "        model_config = model_config,\n",
    "        signature = signature,\n",
    "        registered_model_name = 'gpt2'\n",
    "    )"
   ]
  },
  {
   "cell_type": "code",
   "execution_count": null,
   "id": "1770c7f9-ec65-461a-8299-071abd0556fd",
   "metadata": {},
   "outputs": [],
   "source": [
    "import requests"
   ]
  },
  {
   "cell_type": "code",
   "execution_count": null,
   "id": "0e35ea0c-79e2-4493-b5e2-42b085c93820",
   "metadata": {},
   "outputs": [],
   "source": [
    "with requests.Session() as sess:\n",
    "    resp = sess.post('http://model-server:4488/models/predict/gpt2/pyfunc/1', json = {'data' : ['Tell me about yourself.']}, auth = ('odsp', 'odsp-odsp'))"
   ]
  },
  {
   "cell_type": "code",
   "execution_count": null,
   "id": "5348fa3f-ddd4-406f-b99d-c3eb632cc1b7",
   "metadata": {},
   "outputs": [],
   "source": [
    "print(resp.json()['prediction'][0])"
   ]
  }
 ],
 "metadata": {
  "kernelspec": {
   "display_name": "Python 3 (ipykernel)",
   "language": "python",
   "name": "python3"
  },
  "language_info": {
   "codemirror_mode": {
    "name": "ipython",
    "version": 3
   },
   "file_extension": ".py",
   "mimetype": "text/x-python",
   "name": "python",
   "nbconvert_exporter": "python",
   "pygments_lexer": "ipython3",
   "version": "3.12.4"
  }
 },
 "nbformat": 4,
 "nbformat_minor": 5
}
