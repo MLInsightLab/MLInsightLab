{
 "cells": [
  {
   "cell_type": "markdown",
   "id": "b6aa8dce-6443-492f-8590-c53532856cb3",
   "metadata": {},
   "source": [
    "# Deploying GPT-2 to ML Insight Lab\n",
    "\n",
    "This notebook will showcase an example of how to deploy a language transformer model from Huggingface on the ML Insight Lab.\n",
    "\n",
    "In this notebook, we will show how to access GPT-2 via Hugging Face, create a pipeline for the model, and register the model using `MLFlow`, and use that model as it is automatically deployed to the platform."
   ]
  },
  {
   "cell_type": "code",
   "execution_count": null,
   "id": "8cae3b71-6194-4b1a-8f36-1aaed34f82ab",
   "metadata": {
    "scrolled": true
   },
   "outputs": [],
   "source": [
    "# Import all required packages\n",
    "import requests\n",
    "import os"
   ]
  },
  {
   "cell_type": "markdown",
   "id": "fdf7d12a-9ec3-429e-82d2-638eba01a489",
   "metadata": {},
   "source": [
    "## Access GPT-2 and Create a Transformers Pipeline"
   ]
  },
  {
   "cell_type": "markdown",
   "id": "2cac9531-c77b-4a6b-b99e-567b0ea899d3",
   "metadata": {},
   "source": [
    "## Log and Register GPT-2 Model Pipeline with MLflow"
   ]
  },
  {
   "cell_type": "markdown",
   "id": "9d0b8662-015f-42ac-bdca-93a50cefc939",
   "metadata": {},
   "source": [
    "## Make Predictions with Your Deployed Model"
   ]
  },
  {
   "cell_type": "code",
   "execution_count": null,
   "id": "0e35ea0c-79e2-4493-b5e2-42b085c93820",
   "metadata": {},
   "outputs": [],
   "source": [
    "# User and default API key, if the default environment file is used (NOT RECOMMENDED FOR ANYTHING OTHER THAN TESTING PURPOSES)\n",
    "user = 'admin'\n",
    "key = 'mlil-admin-key'\n",
    "\n",
    "# API URL (default for use within the platform)\n",
    "api_url = os.environ['API_URL']\n",
    "\n",
    "# Deploy the model\n",
    "with requests.Session() as sess:\n",
    "    resp = sess.post(f'{api_url}/models/load/gpt2/hfhub/1',\n",
    "        auth = (user, key),\n",
    "        json = {'kwargs': {'task': 'text-generation', 'model' : 'gpt2', 'device_map': 'auto'}}\n",
    "    )"
   ]
  },
  {
   "cell_type": "code",
   "execution_count": null,
   "id": "871eca51",
   "metadata": {},
   "outputs": [],
   "source": [
    "# Make a prediction using the deployed model\n",
    "\n",
    "# Note that the model is being deployed as an MLflow pyfunc object with a version number\n",
    "# Make sure that you're careful to point to the correct model version (in the example, it's 1) when making your request\n",
    "with requests.Session() as sess:\n",
    "    resp = sess.post(f'{api_url}/models/predict/gpt2/hfhub/1', json = {'data' : ['Tell me about yourself.']}, auth = (user, key))"
   ]
  },
  {
   "cell_type": "code",
   "execution_count": null,
   "id": "5348fa3f-ddd4-406f-b99d-c3eb632cc1b7",
   "metadata": {},
   "outputs": [],
   "source": [
    "# Return the model's predictions\n",
    "print(resp.json()['prediction'][0])"
   ]
  }
 ],
 "metadata": {
  "kernelspec": {
   "display_name": "Python 3 (ipykernel)",
   "language": "python",
   "name": "python3"
  },
  "language_info": {
   "codemirror_mode": {
    "name": "ipython",
    "version": 3
   },
   "file_extension": ".py",
   "mimetype": "text/x-python",
   "name": "python",
   "nbconvert_exporter": "python",
   "pygments_lexer": "ipython3",
   "version": "3.11.4"
  }
 },
 "nbformat": 4,
 "nbformat_minor": 5
}
